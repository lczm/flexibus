{
 "cells": [
  {
   "cell_type": "code",
   "execution_count": 10,
   "metadata": {},
   "outputs": [],
   "source": [
    "import pickle"
   ]
  },
  {
   "cell_type": "code",
   "execution_count": 11,
   "metadata": {},
   "outputs": [],
   "source": [
    "with open('pickle_bus_stops', 'rb') as file:\n",
    "    stops = pickle.load(file)\n",
    "    \n",
    "with open('pickle_passengers', 'rb') as file:\n",
    "    passengers = pickle.load(file)\n"
   ]
  },
  {
   "cell_type": "code",
   "execution_count": 12,
   "metadata": {},
   "outputs": [
    {
     "data": {
      "text/plain": [
       "5018"
      ]
     },
     "execution_count": 12,
     "metadata": {},
     "output_type": "execute_result"
    }
   ],
   "source": [
    "len(stops.keys())"
   ]
  },
  {
   "cell_type": "code",
   "execution_count": 13,
   "metadata": {},
   "outputs": [
    {
     "data": {
      "text/plain": [
       "4987"
      ]
     },
     "execution_count": 13,
     "metadata": {},
     "output_type": "execute_result"
    }
   ],
   "source": [
    "len(passengers.keys())"
   ]
  },
  {
   "cell_type": "code",
   "execution_count": 14,
   "metadata": {},
   "outputs": [],
   "source": [
    "stops_keys = stops.keys()\n",
    "passengers_keys = passengers.keys()\n",
    "\n",
    "not_in_passengers = [x for x in stops_keys if x not in passengers_keys]\n",
    "not_in_stops = [x for x in  passengers_keys if x not in stops_keys]"
   ]
  },
  {
   "cell_type": "code",
   "execution_count": 15,
   "metadata": {},
   "outputs": [
    {
     "data": {
      "text/plain": [
       "32"
      ]
     },
     "execution_count": 15,
     "metadata": {},
     "output_type": "execute_result"
    }
   ],
   "source": [
    "len(not_in_passengers)"
   ]
  },
  {
   "cell_type": "code",
   "execution_count": 16,
   "metadata": {},
   "outputs": [
    {
     "data": {
      "text/plain": [
       "1"
      ]
     },
     "execution_count": 16,
     "metadata": {},
     "output_type": "execute_result"
    }
   ],
   "source": [
    "len(not_in_stops)"
   ]
  },
  {
   "cell_type": "code",
   "execution_count": 17,
   "metadata": {},
   "outputs": [],
   "source": [
    "merged = {}\n",
    "for code in set(stops).intersection(set(passengers)):\n",
    "    merged[code] = {**stops[code], **passengers[code]}"
   ]
  },
  {
   "cell_type": "code",
   "execution_count": 18,
   "metadata": {},
   "outputs": [],
   "source": [
    "with open('pickle_data', 'wb') as file:\n",
    "    pickle.dump(merged, file)"
   ]
  },
  {
   "cell_type": "code",
   "execution_count": 21,
   "metadata": {},
   "outputs": [
    {
     "data": {
      "text/plain": [
       "{'Road Name': 'Sumang Lane',\n",
       " 'Description': 'Blk 224A',\n",
       " 'Latitude': 1.402291,\n",
       " 'Longitude': 103.8937,\n",
       " 'Hourly Taps': {14: 1307,\n",
       "  23: 547,\n",
       "  19: 2063,\n",
       "  6: 1809,\n",
       "  16: 1474,\n",
       "  21: 1177,\n",
       "  0: 169,\n",
       "  10: 1497,\n",
       "  18: 2306,\n",
       "  22: 1136,\n",
       "  12: 1436,\n",
       "  20: 1512,\n",
       "  15: 1336,\n",
       "  9: 2030,\n",
       "  5: 708,\n",
       "  7: 3575,\n",
       "  11: 1355,\n",
       "  13: 1445,\n",
       "  8: 3050,\n",
       "  17: 1768}}"
      ]
     },
     "execution_count": 21,
     "metadata": {},
     "output_type": "execute_result"
    }
   ],
   "source": [
    "merged[list(merged.keys())[0]]"
   ]
  },
  {
   "cell_type": "code",
   "execution_count": null,
   "metadata": {},
   "outputs": [],
   "source": []
  }
 ],
 "metadata": {
  "kernelspec": {
   "display_name": "Python 3",
   "language": "python",
   "name": "python3"
  },
  "language_info": {
   "codemirror_mode": {
    "name": "ipython",
    "version": 3
   },
   "file_extension": ".py",
   "mimetype": "text/x-python",
   "name": "python",
   "nbconvert_exporter": "python",
   "pygments_lexer": "ipython3",
   "version": "3.7.3"
  }
 },
 "nbformat": 4,
 "nbformat_minor": 2
}
